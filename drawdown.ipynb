{
 "cells": [
  {
   "cell_type": "code",
   "execution_count": 5,
   "metadata": {},
   "outputs": [],
   "source": [
    "import pandas as pd\n",
    "import os\n",
    "import numpy as np"
   ]
  },
  {
   "cell_type": "code",
   "execution_count": 18,
   "metadata": {},
   "outputs": [
    {
     "name": "stdout",
     "output_type": "stream",
     "text": [
      "Lookback_21_Holding_5.xlsx: 40.9345220030723\n",
      "Lookback_21_Holding_21.xlsx: 44.19438974153266\n",
      "Lookback_252_Holding_5.xlsx: 26.960832312890343\n",
      "Lookback_63_Holding_5.xlsx: 33.87034121008571\n",
      "Lookback_126_Holding_5.xlsx: 26.48414229267204\n",
      "Lookback_126_Holding_21.xlsx: 33.769927557491215\n",
      "Lookback_252_Holding_21.xlsx: 29.257760895461526\n",
      "Lookback_63_Holding_21.xlsx: 39.88844181261692\n",
      "Lookback_5_Holding_5.xlsx: 44.22652057800692\n"
     ]
    }
   ],
   "source": [
    "for exl in os.listdir('Results'):\n",
    "    if exl.endswith('.xlsx'):\n",
    "        df = pd.read_excel('Results/' + exl)\n",
    "        \n",
    "        cur_max = np.zeros(len(df['NAV']), dtype=np.float64)\n",
    "        drawdown = np.zeros(len(df['NAV']), dtype=np.float64)\n",
    "        for i, val in enumerate(df['NAV']):\n",
    "            if i == 0:\n",
    "                cur_max[i] = val\n",
    "            else:\n",
    "                cur_max[i] = max(val, cur_max[i-1])\n",
    "            drawdown[i] = (val - cur_max[i]) / cur_max[i]\n",
    "        print(exl + \":\", np.max(drawdown*-100))\n",
    "        \n",
    "            "
   ]
  },
  {
   "cell_type": "code",
   "execution_count": null,
   "metadata": {},
   "outputs": [],
   "source": []
  }
 ],
 "metadata": {
  "kernelspec": {
   "display_name": "Python 3",
   "language": "python",
   "name": "python3"
  },
  "language_info": {
   "codemirror_mode": {
    "name": "ipython",
    "version": 3
   },
   "file_extension": ".py",
   "mimetype": "text/x-python",
   "name": "python",
   "nbconvert_exporter": "python",
   "pygments_lexer": "ipython3",
   "version": "3.10.12"
  }
 },
 "nbformat": 4,
 "nbformat_minor": 2
}
