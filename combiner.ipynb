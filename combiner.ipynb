{
 "cells": [
  {
   "cell_type": "code",
   "execution_count": 5,
   "metadata": {},
   "outputs": [],
   "source": [
    "import pandas as pd\n",
    "import os\n",
    "\n",
    "# Path to the directory where your CSV files are stored\n",
    "csv_directory = 'Data/daily/'\n",
    "\n",
    "# List to store individual DataFrames\n",
    "dataframes = []\n",
    "\n",
    "# Loop through each file in the directory\n",
    "for file in os.listdir(csv_directory):\n",
    "    if file.endswith('.csv'):\n",
    "        file_path = os.path.join(csv_directory, file)\n",
    "        ticker = os.path.splitext(file)[0]  # Extract ticker from filename\n",
    "\n",
    "        # Read CSV file\n",
    "        data = pd.read_csv(file_path)\n",
    "\n",
    "        # Ensure the Date column is in the correct format\n",
    "        data['Date'] = pd.to_datetime(data['Date'])\n",
    "\n",
    "        # Rename the price column to the ticker name\n",
    "        data.rename(columns={'close': ticker}, inplace=True)\n",
    "\n",
    "        # Keep only Date and the ticker's price\n",
    "        data = data[['Date', ticker]]\n",
    "\n",
    "        # Append DataFrame to list\n",
    "        dataframes.append(data)\n",
    "\n",
    "# Concatenate all DataFrames horizontally\n",
    "combined_data = pd.concat(dataframes, axis=1)\n",
    "\n",
    "# Since 'Date' columns are repeated, we need to remove duplicates\n",
    "combined_data = combined_data.loc[:, ~combined_data.columns.duplicated()]\n",
    "\n",
    "# Save combined data to a new CSV file\n",
    "combined_data.to_csv('combined_data.csv', index=False)\n"
   ]
  }
 ],
 "metadata": {
  "kernelspec": {
   "display_name": "Python 3",
   "language": "python",
   "name": "python3"
  },
  "language_info": {
   "codemirror_mode": {
    "name": "ipython",
    "version": 3
   },
   "file_extension": ".py",
   "mimetype": "text/x-python",
   "name": "python",
   "nbconvert_exporter": "python",
   "pygments_lexer": "ipython3",
   "version": "3.10.12"
  }
 },
 "nbformat": 4,
 "nbformat_minor": 2
}
